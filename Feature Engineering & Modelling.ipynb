{
 "cells": [
  {
   "cell_type": "code",
   "execution_count": 677,
   "id": "b27505a5",
   "metadata": {},
   "outputs": [],
   "source": [
    "%matplotlib inline\n",
    "import warnings\n",
    "warnings.filterwarnings(\"ignore\")\n",
    "import pandas as pd\n",
    "import numpy as np\n",
    "from sklearn.feature_extraction.text import TfidfVectorizer\n",
    "from sklearn.feature_extraction.text import CountVectorizer\n",
    "from sklearn.preprocessing import MinMaxScaler\n",
    "from bs4 import BeautifulSoup\n",
    "import re\n",
    "from nltk.corpus import stopwords\n",
    "import pickle\n",
    "from tqdm import tqdm\n",
    "import os\n",
    "import matplotlib.pyplot as plt\n",
    "import seaborn as sns\n",
    "from sklearn.metrics.pairwise import cosine_similarity\n",
    "from sklearn.multiclass import OneVsRestClassifier\n",
    "from sklearn.linear_model import SGDClassifier\n",
    "from sklearn import metrics\n",
    "from sklearn.metrics import f1_score,precision_score,recall_score\n",
    "from scipy.sparse import hstack\n",
    "from datetime import datetime"
   ]
  },
  {
   "cell_type": "code",
   "execution_count": 678,
   "id": "beb8f27a",
   "metadata": {},
   "outputs": [
    {
     "data": {
      "text/html": [
       "<div>\n",
       "<style scoped>\n",
       "    .dataframe tbody tr th:only-of-type {\n",
       "        vertical-align: middle;\n",
       "    }\n",
       "\n",
       "    .dataframe tbody tr th {\n",
       "        vertical-align: top;\n",
       "    }\n",
       "\n",
       "    .dataframe thead th {\n",
       "        text-align: right;\n",
       "    }\n",
       "</style>\n",
       "<table border=\"1\" class=\"dataframe\">\n",
       "  <thead>\n",
       "    <tr style=\"text-align: right;\">\n",
       "      <th></th>\n",
       "      <th>question_id</th>\n",
       "      <th>title</th>\n",
       "      <th>content</th>\n",
       "      <th>difficulty</th>\n",
       "      <th>likes</th>\n",
       "      <th>dislikes</th>\n",
       "      <th>similar_questions</th>\n",
       "      <th>topic_tags</th>\n",
       "      <th>hints</th>\n",
       "      <th>topic</th>\n",
       "      <th>totalAccepted</th>\n",
       "      <th>totalSubmission</th>\n",
       "      <th>acRate</th>\n",
       "    </tr>\n",
       "  </thead>\n",
       "  <tbody>\n",
       "    <tr>\n",
       "      <th>0</th>\n",
       "      <td>540</td>\n",
       "      <td>singl element sort array</td>\n",
       "      <td>given sort array consist integ everi element a...</td>\n",
       "      <td>Medium</td>\n",
       "      <td>4873</td>\n",
       "      <td>110</td>\n",
       "      <td>[]</td>\n",
       "      <td>Array Binary Search</td>\n",
       "      <td>singl element sort array</td>\n",
       "      <td>Algorithms</td>\n",
       "      <td>281300</td>\n",
       "      <td>479400</td>\n",
       "      <td>58.7</td>\n",
       "    </tr>\n",
       "    <tr>\n",
       "      <th>1</th>\n",
       "      <td>919</td>\n",
       "      <td>project area 3d shape</td>\n",
       "      <td>given grid place cube axi align axe valu grid ...</td>\n",
       "      <td>Easy</td>\n",
       "      <td>387</td>\n",
       "      <td>1135</td>\n",
       "      <td>[]</td>\n",
       "      <td>Array Math Geometry Matrix</td>\n",
       "      <td>project area 3d shape</td>\n",
       "      <td>Algorithms</td>\n",
       "      <td>39800</td>\n",
       "      <td>56900</td>\n",
       "      <td>69.9</td>\n",
       "    </tr>\n",
       "    <tr>\n",
       "      <th>2</th>\n",
       "      <td>493</td>\n",
       "      <td>revers pair</td>\n",
       "      <td>given integ array num return number revers pai...</td>\n",
       "      <td>Hard</td>\n",
       "      <td>2641</td>\n",
       "      <td>176</td>\n",
       "      <td>['Count of Smaller Numbers After Self', 'Count...</td>\n",
       "      <td>Array Binary Search Divide and Conquer Binary ...</td>\n",
       "      <td>revers pair</td>\n",
       "      <td>Algorithms</td>\n",
       "      <td>79500</td>\n",
       "      <td>266800</td>\n",
       "      <td>29.8</td>\n",
       "    </tr>\n",
       "    <tr>\n",
       "      <th>3</th>\n",
       "      <td>2045</td>\n",
       "      <td>cut ribbon</td>\n",
       "      <td>cut ribbon</td>\n",
       "      <td>Medium</td>\n",
       "      <td>340</td>\n",
       "      <td>20</td>\n",
       "      <td>['Capacity To Ship Packages Within D Days', 'A...</td>\n",
       "      <td>Array Binary Search</td>\n",
       "      <td>use binari search answer can get branch length...</td>\n",
       "      <td>Algorithms</td>\n",
       "      <td>34100</td>\n",
       "      <td>70800</td>\n",
       "      <td>48.1</td>\n",
       "    </tr>\n",
       "    <tr>\n",
       "      <th>4</th>\n",
       "      <td>2141</td>\n",
       "      <td>smallest greater multipl made two digit</td>\n",
       "      <td>smallest greater multipl made two digit</td>\n",
       "      <td>Medium</td>\n",
       "      <td>18</td>\n",
       "      <td>3</td>\n",
       "      <td>[]</td>\n",
       "      <td>Math Enumeration</td>\n",
       "      <td>could generat differ number compris digit1 dig...</td>\n",
       "      <td>Algorithms</td>\n",
       "      <td>864</td>\n",
       "      <td>1600</td>\n",
       "      <td>52.4</td>\n",
       "    </tr>\n",
       "  </tbody>\n",
       "</table>\n",
       "</div>"
      ],
      "text/plain": [
       "   question_id                                    title  \\\n",
       "0          540                 singl element sort array   \n",
       "1          919                    project area 3d shape   \n",
       "2          493                              revers pair   \n",
       "3         2045                               cut ribbon   \n",
       "4         2141  smallest greater multipl made two digit   \n",
       "\n",
       "                                             content difficulty  likes  \\\n",
       "0  given sort array consist integ everi element a...     Medium   4873   \n",
       "1  given grid place cube axi align axe valu grid ...       Easy    387   \n",
       "2  given integ array num return number revers pai...       Hard   2641   \n",
       "3                                         cut ribbon     Medium    340   \n",
       "4            smallest greater multipl made two digit     Medium     18   \n",
       "\n",
       "   dislikes                                  similar_questions  \\\n",
       "0       110                                                 []   \n",
       "1      1135                                                 []   \n",
       "2       176  ['Count of Smaller Numbers After Self', 'Count...   \n",
       "3        20  ['Capacity To Ship Packages Within D Days', 'A...   \n",
       "4         3                                                 []   \n",
       "\n",
       "                                          topic_tags  \\\n",
       "0                                Array Binary Search   \n",
       "1                         Array Math Geometry Matrix   \n",
       "2  Array Binary Search Divide and Conquer Binary ...   \n",
       "3                                Array Binary Search   \n",
       "4                                   Math Enumeration   \n",
       "\n",
       "                                               hints       topic  \\\n",
       "0                           singl element sort array  Algorithms   \n",
       "1                              project area 3d shape  Algorithms   \n",
       "2                                        revers pair  Algorithms   \n",
       "3  use binari search answer can get branch length...  Algorithms   \n",
       "4  could generat differ number compris digit1 dig...  Algorithms   \n",
       "\n",
       "   totalAccepted  totalSubmission  acRate  \n",
       "0         281300           479400    58.7  \n",
       "1          39800            56900    69.9  \n",
       "2          79500           266800    29.8  \n",
       "3          34100            70800    48.1  \n",
       "4            864             1600    52.4  "
      ]
     },
     "execution_count": 678,
     "metadata": {},
     "output_type": "execute_result"
    }
   ],
   "source": [
    "df = pd.read_csv('cleaned_dataset.csv')\n",
    "df.head()"
   ]
  },
  {
   "cell_type": "code",
   "execution_count": 679,
   "id": "90f43e37",
   "metadata": {},
   "outputs": [
    {
     "data": {
      "text/plain": [
       "question_id          0\n",
       "title                0\n",
       "content              0\n",
       "difficulty           0\n",
       "likes                0\n",
       "dislikes             0\n",
       "similar_questions    0\n",
       "topic_tags           0\n",
       "hints                0\n",
       "topic                0\n",
       "totalAccepted        0\n",
       "totalSubmission      0\n",
       "acRate               0\n",
       "dtype: int64"
      ]
     },
     "execution_count": 679,
     "metadata": {},
     "output_type": "execute_result"
    }
   ],
   "source": [
    "df.isnull().sum()"
   ]
  },
  {
   "cell_type": "code",
   "execution_count": 680,
   "id": "e222f4a0",
   "metadata": {},
   "outputs": [],
   "source": [
    "#since the dataset is limited hence instead of using all the tags I will filter only the most important tags and train model on it\n",
    "#check the number of topic tags and the data coverage"
   ]
  },
  {
   "cell_type": "code",
   "execution_count": 681,
   "id": "16ac850d",
   "metadata": {},
   "outputs": [],
   "source": [
    "# binary='true' will give a binary vectorizer\n",
    "vectorizer = CountVectorizer(tokenizer = lambda x: x.split(), binary='true')\n",
    "multilabel_y = vectorizer.fit_transform(df['topic_tags'])"
   ]
  },
  {
   "cell_type": "code",
   "execution_count": 682,
   "id": "4e46436f",
   "metadata": {},
   "outputs": [],
   "source": [
    "def tags_to_choose(n):\n",
    "    t = multilabel_y.sum(axis=0).tolist()[0]\n",
    "    sorted_tags_i = sorted(range(len(t)), key=lambda i: t[i], reverse=True)\n",
    "    multilabel_yn=multilabel_y[:,sorted_tags_i[:n]]\n",
    "    return multilabel_yn\n",
    "\n",
    "def questions_explained_fn(n):\n",
    "    multilabel_yn = tags_to_choose(n)\n",
    "    x= multilabel_yn.sum(axis=1)\n",
    "    return (np.count_nonzero(x==0))"
   ]
  },
  {
   "cell_type": "code",
   "execution_count": 683,
   "id": "1b02b792",
   "metadata": {},
   "outputs": [],
   "source": [
    "questions_explained = []\n",
    "total_tags=multilabel_y.shape[1]\n",
    "total_qs=df.shape[0]\n",
    "for i in range(0, total_tags, 12):\n",
    "    questions_explained.append(np.round(((total_qs-questions_explained_fn(i))/total_qs)*100,3))"
   ]
  },
  {
   "cell_type": "code",
   "execution_count": 684,
   "id": "4c975a1b",
   "metadata": {},
   "outputs": [
    {
     "data": {
      "image/png": "[encoded data removed]",
      "text/plain": [
       "<Figure size 432x288 with 1 Axes>"
      ]
     },
     "metadata": {
      "needs_background": "light"
     },
     "output_type": "display_data"
    },
    {
     "name": "stdout",
     "output_type": "stream",
     "text": [
      "with  48 tags we are covering  100.0 % of questions\n"
     ]
    }
   ],
   "source": [
    "fig, ax = plt.subplots()\n",
    "ax.plot(questions_explained)\n",
    "xlabel = list(0+np.array(range(0,92,3))*4)\n",
    "ax.set_xticklabels(xlabel)\n",
    "plt.xlabel(\"Number of tags\")\n",
    "plt.ylabel(\"Number Questions coverd partially\")\n",
    "plt.grid()\n",
    "plt.show()\n",
    "print(\"with \",48,\"tags we are covering \",questions_explained[7],\"% of questions\")"
   ]
  },
  {
   "cell_type": "code",
   "execution_count": 685,
   "id": "ccdcfe76",
   "metadata": {},
   "outputs": [
    {
     "name": "stdout",
     "output_type": "stream",
     "text": [
      "number of questions that are not covered : 13 out of  2219\n"
     ]
    }
   ],
   "source": [
    "multilabel_yx = tags_to_choose(48)\n",
    "print(\"number of questions that are not covered :\", questions_explained_fn(48),\"out of \", total_qs)"
   ]
  },
  {
   "cell_type": "code",
   "execution_count": 686,
   "id": "44ad2238",
   "metadata": {},
   "outputs": [
    {
     "name": "stdout",
     "output_type": "stream",
     "text": [
      "Number of tags in sample : 92\n",
      "number of tags taken : 48 ( 52.17391304347826 %)\n"
     ]
    }
   ],
   "source": [
    "print(\"Number of tags in sample :\", multilabel_y.shape[1])\n",
    "print(\"number of tags taken :\", multilabel_yx.shape[1],\"(\",(multilabel_yx.shape[1]/multilabel_y.shape[1])*100,\"%)\")"
   ]
  },
  {
   "cell_type": "code",
   "execution_count": 687,
   "id": "f9e4dceb",
   "metadata": {},
   "outputs": [],
   "source": [
    "#split the data into train and test \n",
    "total_size=df.shape[0]\n",
    "#performing a 90:10 split\n",
    "train_size=int(0.90*total_size)\n",
    "\n",
    "x_train=df.head(train_size)\n",
    "x_test=df.tail(total_size - train_size)\n",
    "\n",
    "y_train = multilabel_yx[0:train_size,:]\n",
    "y_test = multilabel_yx[train_size:total_size,:]"
   ]
  },
  {
   "cell_type": "markdown",
   "id": "9b5b5abf",
   "metadata": {},
   "source": [
    "# Featurizations"
   ]
  },
  {
   "cell_type": "markdown",
   "id": "602ebcaf",
   "metadata": {},
   "source": [
    "<h3> one hot encoding </h3>"
   ]
  },
  {
   "cell_type": "code",
   "execution_count": 688,
   "id": "f0e77795",
   "metadata": {},
   "outputs": [],
   "source": [
    "#one hot encoding the categorical feature- difficulty\n",
    "vectorizer = CountVectorizer()\n",
    "vectorizer.fit(x_train['difficulty'].values) # fit has to happen only on train data\n",
    "\n",
    "# we use the fitted CountVectorizer to convert the text to vector\n",
    "x_train_difficulty = vectorizer.transform(x_train['difficulty'].values)\n",
    "x_test_difficulty = vectorizer.transform(x_test['difficulty'].values)\n",
    "\n",
    "#one hot encoding the categorical feature- difficulty\n",
    "vectorizer = CountVectorizer()\n",
    "vectorizer.fit(x_train['topic'].values) # fit has to happen only on train data\n",
    "\n",
    "# we use the fitted CountVectorizer to convert the text to vector\n",
    "x_train_topic = vectorizer.transform(x_train['topic'].values)\n",
    "x_test_topic = vectorizer.transform(x_test['topic'].values)"
   ]
  },
  {
   "cell_type": "markdown",
   "id": "e38ef130",
   "metadata": {},
   "source": [
    "<h3> MinMax Scaler </h3>"
   ]
  },
  {
   "cell_type": "code",
   "execution_count": 689,
   "id": "bda5e05e",
   "metadata": {},
   "outputs": [],
   "source": [
    "#standardising the numerical values using MinMax scaler\n",
    "\n",
    "#standardising likes\n",
    "scaler = MinMaxScaler()\n",
    "scaler.fit(x_train['likes'].values.reshape(-1, 1))\n",
    "x_train_likes = scaler.transform(x_train['likes'].values.reshape(-1, 1))\n",
    "x_test_likes = scaler.transform(x_test['likes'].values.reshape(-1, 1))\n",
    "\n",
    "#standardising dislikes\n",
    "scaler = MinMaxScaler()\n",
    "scaler.fit(x_train['dislikes'].values.reshape(-1, 1))\n",
    "x_train_dislikes = scaler.transform(x_train['dislikes'].values.reshape(-1, 1))\n",
    "x_test_dislikes = scaler.transform(x_test['dislikes'].values.reshape(-1, 1))\n",
    "\n",
    "#standardising totalAccepted\n",
    "scaler = MinMaxScaler()\n",
    "scaler.fit(x_train['totalAccepted'].values.reshape(-1, 1))\n",
    "x_train_accepted = scaler.transform(x_train['totalAccepted'].values.reshape(-1, 1))\n",
    "x_test_accepted = scaler.transform(x_test['totalAccepted'].values.reshape(-1, 1))\n",
    "\n",
    "#standardising totalSubmission\n",
    "scaler = MinMaxScaler()\n",
    "scaler.fit(x_train['totalSubmission'].values.reshape(-1, 1))\n",
    "x_train_submission = scaler.transform(x_train['totalSubmission'].values.reshape(-1, 1))\n",
    "x_test_submission = scaler.transform(x_test['totalSubmission'].values.reshape(-1, 1))\n",
    "\n",
    "#standardising acRate\n",
    "scaler = MinMaxScaler()\n",
    "scaler.fit(x_train['acRate'].values.reshape(-1, 1))\n",
    "x_train_acRate = scaler.transform(x_train['acRate'].values.reshape(-1, 1))\n",
    "x_test_acRate = scaler.transform(x_test['acRate'].values.reshape(-1, 1))"
   ]
  },
  {
   "cell_type": "code",
   "execution_count": 690,
   "id": "3946b60d",
   "metadata": {},
   "outputs": [],
   "source": [
    "#drop similar questions column\n",
    "x_train.drop('similar_questions', axis=1, inplace=True)\n",
    "x_test.drop('similar_questions', axis=1, inplace=True)"
   ]
  },
  {
   "cell_type": "markdown",
   "id": "88c41dee",
   "metadata": {},
   "source": [
    "<h3> TF-IDF Vectorization</h3>\n",
    "- creating text vectorizations for each column seperately and then concatenating the features"
   ]
  },
  {
   "cell_type": "code",
   "execution_count": 691,
   "id": "7594e180",
   "metadata": {},
   "outputs": [
    {
     "name": "stdout",
     "output_type": "stream",
     "text": [
      "Time taken to run this cell : 0:00:00.051194\n"
     ]
    }
   ],
   "source": [
    "start = datetime.now()\n",
    "vectorizer = TfidfVectorizer(min_df=0.0009, max_features=300, smooth_idf=True, norm=\"l2\", \\\n",
    "                             tokenizer = lambda x: x.split(), sublinear_tf=False, ngram_range=(1,3))\n",
    "\n",
    "x_train_tfidf_title = vectorizer.fit_transform(x_train['title'])\n",
    "x_test_tfidf_title = vectorizer.transform(x_test['title'])\n",
    "print(\"Time taken to run this cell :\", datetime.now() - start)"
   ]
  },
  {
   "cell_type": "code",
   "execution_count": 692,
   "id": "c1947f8f",
   "metadata": {},
   "outputs": [
    {
     "name": "stdout",
     "output_type": "stream",
     "text": [
      "Time taken to run this cell : 0:00:00.340958\n"
     ]
    }
   ],
   "source": [
    "start = datetime.now()\n",
    "vectorizer = TfidfVectorizer(min_df=0.0009, max_features=400, smooth_idf=True, norm=\"l2\", \\\n",
    "                             tokenizer = lambda x: x.split(), sublinear_tf=False, ngram_range=(1,3))\n",
    "\n",
    "x_train_tfidf_content = vectorizer.fit_transform(x_train['content'])\n",
    "x_test_tfidf_content = vectorizer.transform(x_test['content'] )\n",
    "print(\"Time taken to run this cell :\", datetime.now() - start)"
   ]
  },
  {
   "cell_type": "code",
   "execution_count": 693,
   "id": "029bea95",
   "metadata": {},
   "outputs": [
    {
     "name": "stdout",
     "output_type": "stream",
     "text": [
      "Time taken to run this cell : 0:00:00.152002\n"
     ]
    }
   ],
   "source": [
    "start = datetime.now()\n",
    "vectorizer = TfidfVectorizer(min_df=0.0009, max_features=350, smooth_idf=True, norm=\"l2\", \\\n",
    "                             tokenizer = lambda x: x.split(), sublinear_tf=False, ngram_range=(1,3))\n",
    "\n",
    "x_train_tfidf_hints = vectorizer.fit_transform(x_train['hints'])\n",
    "x_test_tfidf_hints = vectorizer.transform(x_test['hints'])\n",
    "print(\"Time taken to run this cell :\", datetime.now() - start)"
   ]
  },
  {
   "cell_type": "code",
   "execution_count": 694,
   "id": "cdfda89a",
   "metadata": {},
   "outputs": [],
   "source": [
    "# #stacking all the featurizations created above into a single array\n",
    "# X_tr = hstack((x_train_tfidf, x_train_likes, x_train_dislikes, x_train_accepted, x_train_submission,\n",
    "#                x_train_acRate, x_train_topic, x_train_difficulty)).tocsr()\n",
    "\n",
    "# X_te = hstack((x_test_tfidf, x_test_likes, x_test_dislikes, x_test_accepted, x_test_submission,\n",
    "#                x_test_acRate, x_test_topic, x_test_difficulty)).tocsr()\n",
    "# print(X_tr.shape, y_train.shape)\n",
    "# print(X_te.shape, y_test.shape)"
   ]
  },
  {
   "cell_type": "code",
   "execution_count": 695,
   "id": "f0fe99e9",
   "metadata": {},
   "outputs": [
    {
     "name": "stdout",
     "output_type": "stream",
     "text": [
      "(1997, 1062) (1997, 48)\n",
      "(222, 1062) (222, 48)\n"
     ]
    }
   ],
   "source": [
    "#stacking all the featurizations created above into a single array\n",
    "X_tr = hstack((x_train_tfidf_title, x_train_tfidf_content, x_train_tfidf_hints, x_train_likes, x_train_dislikes, x_train_accepted, x_train_submission,\n",
    "               x_train_acRate, x_train_topic, x_train_difficulty)).tocsr()\n",
    "\n",
    "X_te = hstack((x_test_tfidf_title, x_test_tfidf_content, x_test_tfidf_hints, x_test_likes, x_test_dislikes, x_test_accepted, x_test_submission,\n",
    "               x_test_acRate, x_test_topic, x_test_difficulty)).tocsr()\n",
    "print(X_tr.shape, y_train.shape)\n",
    "print(X_te.shape, y_test.shape)"
   ]
  },
  {
   "cell_type": "markdown",
   "id": "2c2118eb",
   "metadata": {},
   "source": [
    "<h3>Applying Logistic Regression with OneVsRest Classifier </h3>"
   ]
  },
  {
   "cell_type": "code",
   "execution_count": 696,
   "id": "bf73ab64",
   "metadata": {
    "scrolled": true
   },
   "outputs": [
    {
     "name": "stdout",
     "output_type": "stream",
     "text": [
      "accuracy : 0.22072072072072071\n",
      "macro f1 score : 0.39429792296183913\n",
      "micro f1 score : 0.5879765395894428\n",
      "hamming loss : 0.05274024024024024\n",
      "Precision recall report :\n",
      "               precision    recall  f1-score   support\n",
      "\n",
      "           0       0.88      0.82      0.85       115\n",
      "           1       1.00      0.84      0.91        44\n",
      "           2       0.76      0.70      0.73        37\n",
      "           3       0.62      0.38      0.47        34\n",
      "           4       0.56      0.56      0.56        34\n",
      "           5       0.65      0.45      0.53        38\n",
      "           6       0.56      0.39      0.46        38\n",
      "           7       0.58      0.58      0.58        36\n",
      "           8       0.60      0.56      0.58        27\n",
      "           9       0.70      0.78      0.74        18\n",
      "          10       0.50      0.28      0.36        29\n",
      "          11       0.55      0.19      0.29        31\n",
      "          12       1.00      0.89      0.94        19\n",
      "          13       1.00      1.00      1.00        19\n",
      "          14       0.38      0.36      0.37        14\n",
      "          15       0.80      0.67      0.73        12\n",
      "          16       0.00      0.00      0.00        17\n",
      "          17       0.00      0.00      0.00        17\n",
      "          18       1.00      0.36      0.53        14\n",
      "          19       1.00      0.36      0.53        14\n",
      "          20       0.40      0.31      0.35        13\n",
      "          21       0.88      1.00      0.93         7\n",
      "          22       1.00      0.14      0.25        14\n",
      "          23       1.00      0.14      0.25        14\n",
      "          24       1.00      0.14      0.25        14\n",
      "          25       0.40      0.50      0.44         4\n",
      "          26       0.00      0.00      0.00         7\n",
      "          27       0.00      0.00      0.00         6\n",
      "          28       1.00      0.25      0.40         8\n",
      "          29       0.67      0.31      0.42        13\n",
      "          30       0.33      0.08      0.12        13\n",
      "          31       0.67      0.50      0.57         8\n",
      "          32       0.60      0.38      0.46         8\n",
      "          33       1.00      0.75      0.86        12\n",
      "          34       1.00      0.75      0.86        12\n",
      "          35       0.33      0.20      0.25         5\n",
      "          36       0.33      0.20      0.25         5\n",
      "          37       0.00      0.00      0.00         7\n",
      "          38       0.00      0.00      0.00         4\n",
      "          39       1.00      0.14      0.25         7\n",
      "          40       0.00      0.00      0.00         1\n",
      "          41       0.00      0.00      0.00         1\n",
      "          42       0.00      0.00      0.00         2\n",
      "          43       0.00      0.00      0.00         2\n",
      "          44       0.00      0.00      0.00         4\n",
      "          45       0.00      0.00      0.00         4\n",
      "          46       1.00      0.75      0.86         4\n",
      "          47       0.00      0.00      0.00         4\n",
      "\n",
      "   micro avg       0.72      0.50      0.59       810\n",
      "   macro avg       0.54      0.35      0.39       810\n",
      "weighted avg       0.67      0.50      0.55       810\n",
      " samples avg       0.73      0.56      0.60       810\n",
      "\n"
     ]
    }
   ],
   "source": [
    "classifier = OneVsRestClassifier(SGDClassifier(loss='log', alpha=0.0002, penalty='l1'), n_jobs=-1)\n",
    "classifier.fit(X_tr, y_train)\n",
    "predictions = classifier.predict(X_te)\n",
    "\n",
    "print(\"accuracy :\",metrics.accuracy_score(y_test,predictions))\n",
    "print(\"macro f1 score :\",metrics.f1_score(y_test, predictions, average = 'macro'))\n",
    "print(\"micro f1 score :\",metrics.f1_score(y_test, predictions, average = 'micro'))\n",
    "print(\"hamming loss :\",metrics.hamming_loss(y_test,predictions))\n",
    "print(\"Precision recall report :\\n\",metrics.classification_report(y_test, predictions))"
   ]
  },
  {
   "cell_type": "code",
   "execution_count": 633,
   "id": "1d91acad",
   "metadata": {},
   "outputs": [
    {
     "data": {
      "text/plain": [
       "(1997, 500)"
      ]
     },
     "execution_count": 633,
     "metadata": {},
     "output_type": "execute_result"
    }
   ],
   "source": [
    "#for finding similar question I will create a tfidf vectorizer on titles only\n",
    "vectorizer = TfidfVectorizer(min_df=0.0009, max_features=500, ngram_range=(1,3))\n",
    "X = vectorizer.fit_transform(x_train['title'])\n",
    "X.shape"
   ]
  },
  {
   "cell_type": "code",
   "execution_count": 634,
   "id": "cd1e1a13",
   "metadata": {},
   "outputs": [
    {
     "name": "stdout",
     "output_type": "stream",
     "text": [
      "deton maximum bomb\n"
     ]
    }
   ],
   "source": [
    "#take a query from test data \n",
    "print(x_test['title'].iloc[6])\n",
    "transformed_title = vectorizer.transform([x_test['title'].iloc[6]])"
   ]
  },
  {
   "cell_type": "code",
   "execution_count": 635,
   "id": "982bc384",
   "metadata": {},
   "outputs": [
    {
     "name": "stdout",
     "output_type": "stream",
     "text": [
      "question ID: 164, similar_question: maximum gap, Similarity score:1.0\n",
      "question ID: 1829, similar_question: maximum unit truck, Similarity score:1.0\n"
     ]
    }
   ],
   "source": [
    "#finding similarity of the test query with all the sentences in the train data\n",
    "#compute cosine similarity between tfidf vector representations\n",
    "results = cosine_similarity(X, transformed_title).reshape((-1,))\n",
    "\n",
    "#get top 2 most similar questions\n",
    "for i in results.argsort()[-2:][::-1]:\n",
    "    print('question ID: {}, similar_question: {}, Similarity score:{}'.format(x_train.iloc[i,0], x_train.iloc[i,1],results[i]))"
   ]
  },
  {
   "cell_type": "markdown",
   "id": "b66f29dc",
   "metadata": {},
   "source": [
    "<h3> 4.5.3 Applying SVM with OneVsRest Classifier </h3>"
   ]
  },
  {
   "cell_type": "code",
   "execution_count": 697,
   "id": "16fcd903",
   "metadata": {
    "scrolled": true
   },
   "outputs": [
    {
     "name": "stdout",
     "output_type": "stream",
     "text": [
      "accuracy : 0.18018018018018017\n",
      "macro f1 score : 0.44210120269237035\n",
      "micro f1 scoore : 0.5527136618839675\n",
      "hamming loss : 0.06728603603603604\n",
      "Precision recall report :\n",
      "               precision    recall  f1-score   support\n",
      "\n",
      "           0       0.83      0.84      0.84       115\n",
      "           1       0.88      0.86      0.87        44\n",
      "           2       0.50      0.68      0.57        37\n",
      "           3       0.46      0.47      0.46        34\n",
      "           4       0.46      0.50      0.48        34\n",
      "           5       0.50      0.47      0.49        38\n",
      "           6       0.49      0.45      0.47        38\n",
      "           7       0.52      0.61      0.56        36\n",
      "           8       0.52      0.63      0.57        27\n",
      "           9       0.50      0.78      0.61        18\n",
      "          10       0.42      0.34      0.38        29\n",
      "          11       0.39      0.29      0.33        31\n",
      "          12       0.89      0.84      0.86        19\n",
      "          13       1.00      1.00      1.00        19\n",
      "          14       0.47      0.57      0.52        14\n",
      "          15       0.53      0.67      0.59        12\n",
      "          16       0.14      0.12      0.13        17\n",
      "          17       0.14      0.18      0.16        17\n",
      "          18       0.35      0.43      0.39        14\n",
      "          19       0.35      0.43      0.39        14\n",
      "          20       0.45      0.38      0.42        13\n",
      "          21       0.78      1.00      0.88         7\n",
      "          22       0.57      0.29      0.38        14\n",
      "          23       0.43      0.21      0.29        14\n",
      "          24       0.57      0.29      0.38        14\n",
      "          25       0.40      0.50      0.44         4\n",
      "          26       0.14      0.14      0.14         7\n",
      "          27       0.00      0.00      0.00         6\n",
      "          28       0.50      0.25      0.33         8\n",
      "          29       0.25      0.15      0.19        13\n",
      "          30       0.29      0.15      0.20        13\n",
      "          31       0.71      0.62      0.67         8\n",
      "          32       0.42      0.62      0.50         8\n",
      "          33       1.00      0.83      0.91        12\n",
      "          34       1.00      0.92      0.96        12\n",
      "          35       0.40      0.40      0.40         5\n",
      "          36       0.33      0.40      0.36         5\n",
      "          37       0.00      0.00      0.00         7\n",
      "          38       0.50      0.25      0.33         4\n",
      "          39       1.00      0.14      0.25         7\n",
      "          40       0.50      1.00      0.67         1\n",
      "          41       0.50      1.00      0.67         1\n",
      "          42       0.33      0.50      0.40         2\n",
      "          43       0.00      0.00      0.00         2\n",
      "          44       0.20      0.25      0.22         4\n",
      "          45       0.00      0.00      0.00         4\n",
      "          46       0.67      0.50      0.57         4\n",
      "          47       0.00      0.00      0.00         4\n",
      "\n",
      "   micro avg       0.56      0.55      0.55       810\n",
      "   macro avg       0.46      0.46      0.44       810\n",
      "weighted avg       0.55      0.55      0.54       810\n",
      " samples avg       0.60      0.61      0.57       810\n",
      "\n"
     ]
    }
   ],
   "source": [
    "classifier = OneVsRestClassifier(SGDClassifier(loss='hinge', alpha=0.0001, penalty='l1'), n_jobs=-1)\n",
    "classifier.fit(X_tr, y_train)\n",
    "predictions = classifier.predict(X_te)\n",
    "\n",
    "print(\"accuracy :\",metrics.accuracy_score(y_test,predictions))\n",
    "print(\"macro f1 score :\",metrics.f1_score(y_test, predictions, average = 'macro'))\n",
    "print(\"micro f1 scoore :\",metrics.f1_score(y_test, predictions, average = 'micro'))\n",
    "print(\"hamming loss :\",metrics.hamming_loss(y_test,predictions))\n",
    "print(\"Precision recall report :\\n\",metrics.classification_report(y_test, predictions))"
   ]
  },
  {
   "cell_type": "code",
   "execution_count": 650,
   "id": "dd5c9947",
   "metadata": {},
   "outputs": [
    {
     "name": "stdout",
     "output_type": "stream",
     "text": [
      "Requirement already satisfied: scikit-multilearn in c:\\users\\siddh\\anaconda3\\lib\\site-packages (0.2.0)\n",
      "Note: you may need to restart the kernel to use updated packages.\n"
     ]
    },
    {
     "name": "stderr",
     "output_type": "stream",
     "text": [
      "WARNING: You are using pip version 21.3.1; however, version 22.0.4 is available.\n",
      "You should consider upgrading via the 'C:\\Users\\siddh\\Anaconda3\\python.exe -m pip install --upgrade pip' command.\n"
     ]
    }
   ],
   "source": [
    "pip install scikit-multilearn"
   ]
  },
  {
   "cell_type": "code",
   "execution_count": 701,
   "id": "ec761aa0",
   "metadata": {},
   "outputs": [
    {
     "name": "stdout",
     "output_type": "stream",
     "text": [
      "accuracy : 0.22972972972972974\n",
      "macro f1 score : 0.29438231026740175\n",
      "micro f1 score : 0.549618320610687\n",
      "hamming loss : 0.04983108108108108\n",
      "Precision recall report :\n",
      "               precision    recall  f1-score   support\n",
      "\n",
      "           0       0.89      0.94      0.92       115\n",
      "           1       1.00      0.86      0.93        44\n",
      "           2       0.96      0.59      0.73        37\n",
      "           3       0.75      0.09      0.16        34\n",
      "           4       0.75      0.09      0.16        34\n",
      "           5       0.75      0.32      0.44        38\n",
      "           6       0.75      0.32      0.44        38\n",
      "           7       0.60      0.25      0.35        36\n",
      "           8       0.94      0.59      0.73        27\n",
      "           9       0.89      0.89      0.89        18\n",
      "          10       0.67      0.07      0.12        29\n",
      "          11       0.50      0.03      0.06        31\n",
      "          12       1.00      0.84      0.91        19\n",
      "          13       1.00      1.00      1.00        19\n",
      "          14       0.60      0.21      0.32        14\n",
      "          15       0.91      0.83      0.87        12\n",
      "          16       0.00      0.00      0.00        17\n",
      "          17       0.00      0.00      0.00        17\n",
      "          18       1.00      0.29      0.44        14\n",
      "          19       1.00      0.29      0.44        14\n",
      "          20       0.00      0.00      0.00        13\n",
      "          21       1.00      1.00      1.00         7\n",
      "          22       0.00      0.00      0.00        14\n",
      "          23       0.00      0.00      0.00        14\n",
      "          24       0.00      0.00      0.00        14\n",
      "          25       1.00      0.25      0.40         4\n",
      "          26       0.00      0.00      0.00         7\n",
      "          27       0.00      0.00      0.00         6\n",
      "          28       0.00      0.00      0.00         8\n",
      "          29       0.00      0.00      0.00        13\n",
      "          30       0.00      0.00      0.00        13\n",
      "          31       0.00      0.00      0.00         8\n",
      "          32       0.00      0.00      0.00         8\n",
      "          33       1.00      0.58      0.74        12\n",
      "          34       1.00      0.58      0.74        12\n",
      "          35       1.00      0.20      0.33         5\n",
      "          36       1.00      0.20      0.33         5\n",
      "          37       0.00      0.00      0.00         7\n",
      "          38       0.00      0.00      0.00         4\n",
      "          39       0.00      0.00      0.00         7\n",
      "          40       0.00      0.00      0.00         1\n",
      "          41       0.00      0.00      0.00         1\n",
      "          42       0.00      0.00      0.00         2\n",
      "          43       0.00      0.00      0.00         2\n",
      "          44       0.00      0.00      0.00         4\n",
      "          45       0.00      0.00      0.00         4\n",
      "          46       1.00      0.50      0.67         4\n",
      "          47       0.00      0.00      0.00         4\n",
      "\n",
      "   micro avg       0.88      0.40      0.55       810\n",
      "   macro avg       0.46      0.25      0.29       810\n",
      "weighted avg       0.64      0.40      0.45       810\n",
      " samples avg       0.84      0.49      0.56       810\n",
      "\n"
     ]
    }
   ],
   "source": [
    "from sklearn.linear_model import LogisticRegression\n",
    "from sklearn.ensemble import RandomForestClassifier\n",
    "from sklearn.multioutput import ClassifierChain\n",
    "\n",
    "base_rf = RandomForestClassifier(n_estimators=50)\n",
    "chain = ClassifierChain(base_rf, order='random')\n",
    "y_tr = y_train.todense()\n",
    "chain.fit(X_tr, np.array(y_tr))\n",
    "predictions = chain.predict(X_te)\n",
    "print(\"accuracy :\",metrics.accuracy_score(y_test,predictions))\n",
    "print(\"macro f1 score :\",metrics.f1_score(y_test, predictions, average = 'macro'))\n",
    "print(\"micro f1 score :\",metrics.f1_score(y_test, predictions, average = 'micro'))\n",
    "print(\"hamming loss :\",metrics.hamming_loss(y_test,predictions))\n",
    "print(\"Precision recall report :\\n\",metrics.classification_report(y_test, predictions))"
   ]
  },
  {
   "cell_type": "code",
   "execution_count": null,
   "id": "9e5171a0",
   "metadata": {},
   "outputs": [],
   "source": []
  }
 ],
 "metadata": {
  "kernelspec": {
   "display_name": "Python 3",
   "language": "python",
   "name": "python3"
  },
  "language_info": {
   "codemirror_mode": {
    "name": "ipython",
    "version": 3
   },
   "file_extension": ".py",
   "mimetype": "text/x-python",
   "name": "python",
   "nbconvert_exporter": "python",
   "pygments_lexer": "ipython3",
   "version": "3.8.8"
  }
 },
 "nbformat": 4,
 "nbformat_minor": 5
}
