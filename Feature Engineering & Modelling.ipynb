{
 "cells": [
  {
   "cell_type": "code",
   "execution_count": 338,
   "id": "b27505a5",
   "metadata": {},
   "outputs": [],
   "source": [
    "%matplotlib inline\n",
    "import warnings\n",
    "warnings.filterwarnings(\"ignore\")\n",
    "\n",
    "import pandas as pd\n",
    "import numpy as np\n",
    "from sklearn.feature_extraction.text import TfidfVectorizer\n",
    "from sklearn.feature_extraction.text import CountVectorizer\n",
    "\n",
    "#!/usr/bin/env python3\n",
    "from bs4 import BeautifulSoup\n",
    "import re\n",
    "\n",
    "# Tutorial about Python regular expressions: https://pymotw.com/2/re/\n",
    "from nltk.corpus import stopwords\n",
    "import pickle\n",
    "\n",
    "from tqdm import tqdm\n",
    "import os\n",
    "import matplotlib.pyplot as plt\n",
    "import seaborn as sns"
   ]
  },
  {
   "cell_type": "code",
   "execution_count": 339,
   "id": "beb8f27a",
   "metadata": {},
   "outputs": [
    {
     "data": {
      "text/html": [
       "<div>\n",
       "<style scoped>\n",
       "    .dataframe tbody tr th:only-of-type {\n",
       "        vertical-align: middle;\n",
       "    }\n",
       "\n",
       "    .dataframe tbody tr th {\n",
       "        vertical-align: top;\n",
       "    }\n",
       "\n",
       "    .dataframe thead th {\n",
       "        text-align: right;\n",
       "    }\n",
       "</style>\n",
       "<table border=\"1\" class=\"dataframe\">\n",
       "  <thead>\n",
       "    <tr style=\"text-align: right;\">\n",
       "      <th></th>\n",
       "      <th>question_id</th>\n",
       "      <th>title</th>\n",
       "      <th>content</th>\n",
       "      <th>difficulty</th>\n",
       "      <th>likes</th>\n",
       "      <th>dislikes</th>\n",
       "      <th>similar_questions</th>\n",
       "      <th>topic_tags</th>\n",
       "      <th>hints</th>\n",
       "      <th>totalAccepted</th>\n",
       "      <th>totalSubmission</th>\n",
       "      <th>acRate</th>\n",
       "    </tr>\n",
       "  </thead>\n",
       "  <tbody>\n",
       "    <tr>\n",
       "      <th>0</th>\n",
       "      <td>2369</td>\n",
       "      <td>maximum sum score array</td>\n",
       "      <td>maximum sum score array</td>\n",
       "      <td>Medium</td>\n",
       "      <td>3</td>\n",
       "      <td>3</td>\n",
       "      <td>['Subarray Sum Equals K', 'Find Pivot Index', ...</td>\n",
       "      <td>Array</td>\n",
       "      <td>can use precalcul effici calcul averag differ ...</td>\n",
       "      <td>121</td>\n",
       "      <td>180</td>\n",
       "      <td>67.2</td>\n",
       "    </tr>\n",
       "    <tr>\n",
       "      <th>1</th>\n",
       "      <td>2354</td>\n",
       "      <td>minimum health beat game</td>\n",
       "      <td>minimum health beat game</td>\n",
       "      <td>Medium</td>\n",
       "      <td>18</td>\n",
       "      <td>5</td>\n",
       "      <td>['Dungeon Game', 'Eliminate Maximum Number of ...</td>\n",
       "      <td>Array Greedy Prefix Sum</td>\n",
       "      <td>should use armor abil alway optim use armor ab...</td>\n",
       "      <td>562</td>\n",
       "      <td>870</td>\n",
       "      <td>64.6</td>\n",
       "    </tr>\n",
       "    <tr>\n",
       "      <th>2</th>\n",
       "      <td>2322</td>\n",
       "      <td>number way build sturdi brick wall</td>\n",
       "      <td>number way build sturdi brick wall</td>\n",
       "      <td>Medium</td>\n",
       "      <td>35</td>\n",
       "      <td>12</td>\n",
       "      <td>['Brick Wall', 'Bricks Falling When Hit']</td>\n",
       "      <td>Array Dynamic Programming Bit Manipulation Bit...</td>\n",
       "      <td>row brick can repres uniqu point two brick joi...</td>\n",
       "      <td>704</td>\n",
       "      <td>1200</td>\n",
       "      <td>59.0</td>\n",
       "    </tr>\n",
       "    <tr>\n",
       "      <th>3</th>\n",
       "      <td>2321</td>\n",
       "      <td>minimum weight subgraph with requir path</td>\n",
       "      <td>given integ denot number node weight direct gr...</td>\n",
       "      <td>Hard</td>\n",
       "      <td>349</td>\n",
       "      <td>11</td>\n",
       "      <td>['Minimum Cost to Make at Least One Valid Path...</td>\n",
       "      <td>Graph Shortest Path</td>\n",
       "      <td>consid path src1 dest src2 dest would look lik...</td>\n",
       "      <td>5500</td>\n",
       "      <td>15700</td>\n",
       "      <td>34.9</td>\n",
       "    </tr>\n",
       "    <tr>\n",
       "      <th>4</th>\n",
       "      <td>2320</td>\n",
       "      <td>find all k-distant indic array</td>\n",
       "      <td>given index integ array num two integ key dist...</td>\n",
       "      <td>Easy</td>\n",
       "      <td>157</td>\n",
       "      <td>25</td>\n",
       "      <td>['Two Sum', 'Shortest Word Distance']</td>\n",
       "      <td>Array</td>\n",
       "      <td>everi occurr key num find indic within distanc...</td>\n",
       "      <td>19900</td>\n",
       "      <td>30800</td>\n",
       "      <td>64.5</td>\n",
       "    </tr>\n",
       "  </tbody>\n",
       "</table>\n",
       "</div>"
      ],
      "text/plain": [
       "   question_id                                     title  \\\n",
       "0         2369                   maximum sum score array   \n",
       "1         2354                  minimum health beat game   \n",
       "2         2322        number way build sturdi brick wall   \n",
       "3         2321  minimum weight subgraph with requir path   \n",
       "4         2320            find all k-distant indic array   \n",
       "\n",
       "                                             content difficulty  likes  \\\n",
       "0                            maximum sum score array     Medium      3   \n",
       "1                           minimum health beat game     Medium     18   \n",
       "2                 number way build sturdi brick wall     Medium     35   \n",
       "3  given integ denot number node weight direct gr...       Hard    349   \n",
       "4  given index integ array num two integ key dist...       Easy    157   \n",
       "\n",
       "   dislikes                                  similar_questions  \\\n",
       "0         3  ['Subarray Sum Equals K', 'Find Pivot Index', ...   \n",
       "1         5  ['Dungeon Game', 'Eliminate Maximum Number of ...   \n",
       "2        12          ['Brick Wall', 'Bricks Falling When Hit']   \n",
       "3        11  ['Minimum Cost to Make at Least One Valid Path...   \n",
       "4        25              ['Two Sum', 'Shortest Word Distance']   \n",
       "\n",
       "                                          topic_tags  \\\n",
       "0                                              Array   \n",
       "1                            Array Greedy Prefix Sum   \n",
       "2  Array Dynamic Programming Bit Manipulation Bit...   \n",
       "3                                Graph Shortest Path   \n",
       "4                                              Array   \n",
       "\n",
       "                                               hints  totalAccepted  \\\n",
       "0  can use precalcul effici calcul averag differ ...            121   \n",
       "1  should use armor abil alway optim use armor ab...            562   \n",
       "2  row brick can repres uniqu point two brick joi...            704   \n",
       "3  consid path src1 dest src2 dest would look lik...           5500   \n",
       "4  everi occurr key num find indic within distanc...          19900   \n",
       "\n",
       "   totalSubmission  acRate  \n",
       "0              180    67.2  \n",
       "1              870    64.6  \n",
       "2             1200    59.0  \n",
       "3            15700    34.9  \n",
       "4            30800    64.5  "
      ]
     },
     "execution_count": 339,
     "metadata": {},
     "output_type": "execute_result"
    }
   ],
   "source": [
    "df = pd.read_csv('cleaned_dataset.csv')\n",
    "df.head()"
   ]
  },
  {
   "cell_type": "code",
   "execution_count": 340,
   "id": "90f43e37",
   "metadata": {},
   "outputs": [
    {
     "data": {
      "text/plain": [
       "question_id          0\n",
       "title                0\n",
       "content              0\n",
       "difficulty           0\n",
       "likes                0\n",
       "dislikes             0\n",
       "similar_questions    0\n",
       "topic_tags           0\n",
       "hints                0\n",
       "totalAccepted        0\n",
       "totalSubmission      0\n",
       "acRate               0\n",
       "dtype: int64"
      ]
     },
     "execution_count": 340,
     "metadata": {},
     "output_type": "execute_result"
    }
   ],
   "source": [
    "df.isnull().sum()"
   ]
  },
  {
   "cell_type": "code",
   "execution_count": 341,
   "id": "e222f4a0",
   "metadata": {},
   "outputs": [],
   "source": [
    "#since the dataset is limited hence instead of using all the tags I will filter only the most important tags and train model on it\n",
    "#check the number of topic tags and the data coverage"
   ]
  },
  {
   "cell_type": "code",
   "execution_count": 342,
   "id": "16ac850d",
   "metadata": {},
   "outputs": [],
   "source": [
    "# binary='true' will give a binary vectorizer\n",
    "vectorizer = CountVectorizer(tokenizer = lambda x: x.split(), binary='true')\n",
    "multilabel_y = vectorizer.fit_transform(df['topic_tags'])"
   ]
  },
  {
   "cell_type": "code",
   "execution_count": 343,
   "id": "4e46436f",
   "metadata": {},
   "outputs": [],
   "source": [
    "def tags_to_choose(n):\n",
    "    t = multilabel_y.sum(axis=0).tolist()[0]\n",
    "    sorted_tags_i = sorted(range(len(t)), key=lambda i: t[i], reverse=True)\n",
    "    multilabel_yn=multilabel_y[:,sorted_tags_i[:n]]\n",
    "    return multilabel_yn\n",
    "\n",
    "def questions_explained_fn(n):\n",
    "    multilabel_yn = tags_to_choose(n)\n",
    "    x= multilabel_yn.sum(axis=1)\n",
    "    return (np.count_nonzero(x==0))"
   ]
  },
  {
   "cell_type": "code",
   "execution_count": 344,
   "id": "1b02b792",
   "metadata": {},
   "outputs": [],
   "source": [
    "questions_explained = []\n",
    "total_tags=multilabel_y.shape[1]\n",
    "total_qs=df.shape[0]\n",
    "for i in range(0, total_tags, 5):\n",
    "    questions_explained.append(np.round(((total_qs-questions_explained_fn(i))/total_qs)*100,3))"
   ]
  },
  {
   "cell_type": "code",
   "execution_count": 345,
   "id": "4c975a1b",
   "metadata": {},
   "outputs": [
    {
     "data": {
      "image/png": "[encoded data removed]",
      "text/plain": [
       "<Figure size 432x288 with 1 Axes>"
      ]
     },
     "metadata": {
      "needs_background": "light"
     },
     "output_type": "display_data"
    },
    {
     "name": "stdout",
     "output_type": "stream",
     "text": [
      "with  24 tags we are covering  99.154 % of questions\n"
     ]
    }
   ],
   "source": [
    "fig, ax = plt.subplots()\n",
    "ax.plot(questions_explained)\n",
    "xlabel = list(0+np.array(range(0,89,2))*4)\n",
    "ax.set_xticklabels(xlabel)\n",
    "plt.xlabel(\"Number of tags\")\n",
    "plt.ylabel(\"Number Questions coverd partially\")\n",
    "plt.grid()\n",
    "plt.show()\n",
    "print(\"with \",24,\"tags we are covering \",questions_explained[6],\"% of questions\")"
   ]
  },
  {
   "cell_type": "code",
   "execution_count": 346,
   "id": "ccdcfe76",
   "metadata": {},
   "outputs": [
    {
     "name": "stdout",
     "output_type": "stream",
     "text": [
      "number of questions that are not covered : 31 out of  2009\n"
     ]
    }
   ],
   "source": [
    "multilabel_yx = tags_to_choose(24)\n",
    "print(\"number of questions that are not covered :\", questions_explained_fn(24),\"out of \", total_qs)"
   ]
  },
  {
   "cell_type": "code",
   "execution_count": 347,
   "id": "44ad2238",
   "metadata": {},
   "outputs": [
    {
     "name": "stdout",
     "output_type": "stream",
     "text": [
      "Number of tags in sample : 89\n",
      "number of tags taken : 24 ( 26.96629213483146 %)\n"
     ]
    }
   ],
   "source": [
    "print(\"Number of tags in sample :\", multilabel_y.shape[1])\n",
    "print(\"number of tags taken :\", multilabel_yx.shape[1],\"(\",(multilabel_yx.shape[1]/multilabel_y.shape[1])*100,\"%)\")"
   ]
  },
  {
   "cell_type": "code",
   "execution_count": 348,
   "id": "f9e4dceb",
   "metadata": {},
   "outputs": [],
   "source": [
    "#split the data into train and test \n",
    "total_size=df.shape[0]\n",
    "#performing a 90:10 split\n",
    "train_size=int(0.90*total_size)\n",
    "\n",
    "x_train=df.head(train_size)\n",
    "x_test=df.tail(total_size - train_size)\n",
    "\n",
    "y_train = multilabel_yx[0:train_size,:]\n",
    "y_test = multilabel_yx[train_size:total_size,:]"
   ]
  },
  {
   "cell_type": "markdown",
   "id": "602ebcaf",
   "metadata": {},
   "source": [
    "<h3> one hot encoding </h3>"
   ]
  },
  {
   "cell_type": "code",
   "execution_count": 349,
   "id": "f0e77795",
   "metadata": {},
   "outputs": [],
   "source": [
    "#one hot encoding the categorical feature- difficulty\n",
    "vectorizer = CountVectorizer()\n",
    "vectorizer.fit(x_train['difficulty'].values) # fit has to happen only on train data\n",
    "\n",
    "# we use the fitted CountVectorizer to convert the text to vector\n",
    "x_train_difficulty = vectorizer.transform(x_train['difficulty'].values)\n",
    "x_test_difficulty = vectorizer.transform(x_test['difficulty'].values)"
   ]
  },
  {
   "cell_type": "markdown",
   "id": "e38ef130",
   "metadata": {},
   "source": [
    "<h3> MinMax Scaler </h3>"
   ]
  },
  {
   "cell_type": "code",
   "execution_count": 350,
   "id": "bda5e05e",
   "metadata": {},
   "outputs": [],
   "source": [
    "#standardising the numerical values using MinMax scaler\n",
    "from sklearn.preprocessing import MinMaxScaler\n",
    "#standardising likes\n",
    "scaler = MinMaxScaler()\n",
    "scaler.fit(x_train['likes'].values.reshape(-1, 1))\n",
    "x_train_likes = scaler.transform(x_train['likes'].values.reshape(-1, 1))\n",
    "x_test_likes = scaler.transform(x_test['likes'].values.reshape(-1, 1))\n",
    "\n",
    "#standardising dislikes\n",
    "scaler = MinMaxScaler()\n",
    "scaler.fit(x_train['dislikes'].values.reshape(-1, 1))\n",
    "x_train_dislikes = scaler.transform(x_train['dislikes'].values.reshape(-1, 1))\n",
    "x_test_dislikes = scaler.transform(x_test['dislikes'].values.reshape(-1, 1))\n",
    "\n",
    "#standardising totalAccepted\n",
    "scaler = MinMaxScaler()\n",
    "scaler.fit(x_train['totalAccepted'].values.reshape(-1, 1))\n",
    "x_train_accepted = scaler.transform(x_train['totalAccepted'].values.reshape(-1, 1))\n",
    "x_test_accepted = scaler.transform(x_test['totalAccepted'].values.reshape(-1, 1))\n",
    "\n",
    "#standardising totalSubmission\n",
    "scaler = MinMaxScaler()\n",
    "scaler.fit(x_train['totalSubmission'].values.reshape(-1, 1))\n",
    "x_train_submission = scaler.transform(x_train['totalSubmission'].values.reshape(-1, 1))\n",
    "x_test_submission = scaler.transform(x_test['totalSubmission'].values.reshape(-1, 1))\n",
    "\n",
    "#standardising acRate\n",
    "scaler = MinMaxScaler()\n",
    "scaler.fit(x_train['acRate'].values.reshape(-1, 1))\n",
    "x_train_acRate = scaler.transform(x_train['acRate'].values.reshape(-1, 1))\n",
    "x_test_acRate = scaler.transform(x_test['acRate'].values.reshape(-1, 1))"
   ]
  },
  {
   "cell_type": "code",
   "execution_count": 351,
   "id": "3946b60d",
   "metadata": {},
   "outputs": [],
   "source": [
    "x_train.drop('similar_questions', axis=1, inplace=True)\n",
    "x_test.drop('similar_questions', axis=1, inplace=True)"
   ]
  },
  {
   "cell_type": "code",
   "execution_count": 352,
   "id": "4188494b",
   "metadata": {},
   "outputs": [
    {
     "name": "stdout",
     "output_type": "stream",
     "text": [
      "Time taken to run this cell : 0:00:00.513692\n"
     ]
    }
   ],
   "source": [
    "from datetime import datetime\n",
    "start = datetime.now()\n",
    "vectorizer = TfidfVectorizer(min_df=0.00009, max_features=995, smooth_idf=True, norm=\"l2\", \\\n",
    "                             tokenizer = lambda x: x.split(), sublinear_tf=False, ngram_range=(1,3))\n",
    "\n",
    "x_train_tfidf = vectorizer.fit_transform(x_train['hints']+x_train['title']+x_train['content'])\n",
    "x_test_tfidf = vectorizer.transform(x_test['hints']+x_test['title'] + x_test['content'] )\n",
    "print(\"Time taken to run this cell :\", datetime.now() - start)"
   ]
  },
  {
   "cell_type": "code",
   "execution_count": 353,
   "id": "cdfda89a",
   "metadata": {},
   "outputs": [
    {
     "name": "stdout",
     "output_type": "stream",
     "text": [
      "(1808, 1000) (1808, 24)\n",
      "(201, 1000) (201, 24)\n"
     ]
    }
   ],
   "source": [
    "from scipy.sparse import hstack\n",
    "X_tr = hstack((x_train_tfidf, x_train_likes, x_train_dislikes, x_train_accepted, x_train_submission, x_train_acRate)).tocsr()\n",
    "X_te = hstack((x_test_tfidf, x_test_likes, x_test_dislikes, x_test_accepted, x_test_submission, x_test_acRate)).tocsr()\n",
    "print(X_tr.shape, y_train.shape)\n",
    "print(X_te.shape, y_test.shape)"
   ]
  },
  {
   "cell_type": "markdown",
   "id": "2c2118eb",
   "metadata": {},
   "source": [
    "<h3>Applying Logistic Regression with OneVsRest Classifier </h3>"
   ]
  },
  {
   "cell_type": "code",
   "execution_count": 354,
   "id": "bf73ab64",
   "metadata": {
    "scrolled": true
   },
   "outputs": [
    {
     "name": "stdout",
     "output_type": "stream",
     "text": [
      "accuracy : 0.1791044776119403\n",
      "macro f1 score : 0.5499784737855112\n",
      "micro f1 score : 0.6340668296658517\n",
      "hamming loss : 0.09307628524046435\n",
      "Precision recall report :\n",
      "               precision    recall  f1-score   support\n",
      "\n",
      "           0       0.89      0.86      0.87        83\n",
      "           1       0.92      0.87      0.90        54\n",
      "           2       0.48      0.91      0.63        47\n",
      "           3       0.48      0.31      0.38        35\n",
      "           4       0.44      0.35      0.39        34\n",
      "           5       0.67      0.32      0.44        37\n",
      "           6       0.70      0.38      0.49        37\n",
      "           7       0.75      0.46      0.57        26\n",
      "           8       0.76      0.85      0.80        41\n",
      "           9       0.57      0.84      0.68        25\n",
      "          10       0.40      0.57      0.47        14\n",
      "          11       0.00      0.00      0.00         8\n",
      "          12       0.97      0.97      0.97        29\n",
      "          13       0.43      0.72      0.54        18\n",
      "          14       1.00      0.47      0.64        15\n",
      "          15       0.38      0.53      0.44        30\n",
      "          16       0.37      0.53      0.44        30\n",
      "          17       1.00      0.45      0.62        11\n",
      "          18       1.00      0.45      0.62        11\n",
      "          19       0.45      0.36      0.40        14\n",
      "          20       0.83      0.83      0.83         6\n",
      "          21       0.33      0.50      0.40         2\n",
      "          22       0.25      0.50      0.33         2\n",
      "          23       0.25      0.50      0.33         2\n",
      "\n",
      "   micro avg       0.63      0.64      0.63       611\n",
      "   macro avg       0.60      0.56      0.55       611\n",
      "weighted avg       0.67      0.64      0.63       611\n",
      " samples avg       0.64      0.61      0.58       611\n",
      "\n"
     ]
    }
   ],
   "source": [
    "from sklearn.multiclass import OneVsRestClassifier\n",
    "from sklearn.linear_model import SGDClassifier\n",
    "from sklearn import metrics\n",
    "from sklearn.metrics import f1_score,precision_score,recall_score\n",
    "\n",
    "classifier = OneVsRestClassifier(SGDClassifier(loss='log', alpha=0.0001, penalty='l1'), n_jobs=-1)\n",
    "classifier.fit(X_tr, y_train)\n",
    "predictions = classifier.predict(X_te)\n",
    "\n",
    "print(\"accuracy :\",metrics.accuracy_score(y_test,predictions))\n",
    "print(\"macro f1 score :\",metrics.f1_score(y_test, predictions, average = 'macro'))\n",
    "print(\"micro f1 score :\",metrics.f1_score(y_test, predictions, average = 'micro'))\n",
    "print(\"hamming loss :\",metrics.hamming_loss(y_test,predictions))\n",
    "print(\"Precision recall report :\\n\",metrics.classification_report(y_test, predictions))"
   ]
  },
  {
   "cell_type": "code",
   "execution_count": 331,
   "id": "1d91acad",
   "metadata": {},
   "outputs": [
    {
     "data": {
      "text/plain": [
       "(1808, 500)"
      ]
     },
     "execution_count": 331,
     "metadata": {},
     "output_type": "execute_result"
    }
   ],
   "source": [
    "#for finding similar question I will create a tfidf vectorizer on titles only\n",
    "vectorizer = TfidfVectorizer(min_df=0.00009, max_features=500, ngram_range=(1,3))\n",
    "X = vectorizer.fit_transform(x_train['title'])\n",
    "X.shape"
   ]
  },
  {
   "cell_type": "code",
   "execution_count": 332,
   "id": "cd1e1a13",
   "metadata": {},
   "outputs": [
    {
     "name": "stdout",
     "output_type": "stream",
     "text": [
      "word search two\n"
     ]
    }
   ],
   "source": [
    "#take a query from test data \n",
    "print(x_test['title'].iloc[5])\n",
    "transformed_title = vectorizer.transform([x_test['title'].iloc[0]])"
   ]
  },
  {
   "cell_type": "code",
   "execution_count": 333,
   "id": "982bc384",
   "metadata": {},
   "outputs": [
    {
     "name": "stdout",
     "output_type": "stream",
     "text": [
      "question ID: 219 -- similar_question is contain duplic two-- Similarity score:0.92323199747196\n",
      "question ID: 220 -- similar_question is contain duplic three-- Similarity score:0.8759523298599456\n"
     ]
    }
   ],
   "source": [
    "#finding similarity of the test query with all the sentences in the train data\n",
    "import numpy as np\n",
    "from sklearn.metrics.pairwise import cosine_similarity\n",
    "results = cosine_similarity(X, transformed_title).reshape((-1,))\n",
    "\n",
    "#get top 2 most similar questions\n",
    "for i in results.argsort()[-2:][::-1]:\n",
    "    print('question ID: {} -- similar_question is {}-- Similarity score:{}'.format(x_train.iloc[i,0], x_train.iloc[i,1],results[i]))"
   ]
  },
  {
   "cell_type": "markdown",
   "id": "b66f29dc",
   "metadata": {},
   "source": [
    "<h3> 4.5.3 Applying SVM with OneVsRest Classifier </h3>"
   ]
  },
  {
   "cell_type": "code",
   "execution_count": 358,
   "id": "16fcd903",
   "metadata": {},
   "outputs": [
    {
     "name": "stdout",
     "output_type": "stream",
     "text": [
      "accuracy : 0.13930348258706468\n",
      "macro f1 score : 0.530513724196972\n",
      "micro f1 scoore : 0.615737203972498\n",
      "hamming loss : 0.10427031509121061\n",
      "Precision recall report :\n",
      "               precision    recall  f1-score   support\n",
      "\n",
      "           0       0.87      0.89      0.88        83\n",
      "           1       0.89      0.91      0.90        54\n",
      "           2       0.46      0.91      0.61        47\n",
      "           3       0.34      0.34      0.34        35\n",
      "           4       0.33      0.29      0.31        34\n",
      "           5       0.62      0.41      0.49        37\n",
      "           6       0.65      0.41      0.50        37\n",
      "           7       0.75      0.46      0.57        26\n",
      "           8       0.75      0.88      0.81        41\n",
      "           9       0.55      0.92      0.69        25\n",
      "          10       0.35      0.57      0.43        14\n",
      "          11       0.20      0.12      0.15         8\n",
      "          12       0.97      0.97      0.97        29\n",
      "          13       0.32      0.67      0.43        18\n",
      "          14       1.00      0.53      0.70        15\n",
      "          15       0.39      0.50      0.44        30\n",
      "          16       0.38      0.53      0.44        30\n",
      "          17       0.56      0.45      0.50        11\n",
      "          18       0.43      0.55      0.48        11\n",
      "          19       0.43      0.43      0.43        14\n",
      "          20       0.75      1.00      0.86         6\n",
      "          21       0.11      0.50      0.18         2\n",
      "          22       0.25      0.50      0.33         2\n",
      "          23       0.20      0.50      0.29         2\n",
      "\n",
      "   micro avg       0.58      0.66      0.62       611\n",
      "   macro avg       0.52      0.59      0.53       611\n",
      "weighted avg       0.62      0.66      0.62       611\n",
      " samples avg       0.60      0.64      0.58       611\n",
      "\n"
     ]
    }
   ],
   "source": [
    "from sklearn.multiclass import OneVsRestClassifier\n",
    "from sklearn.linear_model import SGDClassifier\n",
    "from sklearn import metrics\n",
    "from sklearn.metrics import f1_score,precision_score,recall_score\n",
    "\n",
    "classifier = OneVsRestClassifier(SGDClassifier(loss='hinge', alpha=0.0001, penalty='l1'), n_jobs=-1)\n",
    "classifier.fit(X_tr, y_train)\n",
    "predictions = classifier.predict(X_te)\n",
    "\n",
    "print(\"accuracy :\",metrics.accuracy_score(y_test,predictions))\n",
    "print(\"macro f1 score :\",metrics.f1_score(y_test, predictions, average = 'macro'))\n",
    "print(\"micro f1 scoore :\",metrics.f1_score(y_test, predictions, average = 'micro'))\n",
    "print(\"hamming loss :\",metrics.hamming_loss(y_test,predictions))\n",
    "print(\"Precision recall report :\\n\",metrics.classification_report(y_test, predictions))"
   ]
  },
  {
   "cell_type": "code",
   "execution_count": null,
   "id": "014efab5",
   "metadata": {},
   "outputs": [],
   "source": []
  }
 ],
 "metadata": {
  "kernelspec": {
   "display_name": "Python 3",
   "language": "python",
   "name": "python3"
  },
  "language_info": {
   "codemirror_mode": {
    "name": "ipython",
    "version": 3
   },
   "file_extension": ".py",
   "mimetype": "text/x-python",
   "name": "python",
   "nbconvert_exporter": "python",
   "pygments_lexer": "ipython3",
   "version": "3.8.8"
  }
 },
 "nbformat": 4,
 "nbformat_minor": 5
}
