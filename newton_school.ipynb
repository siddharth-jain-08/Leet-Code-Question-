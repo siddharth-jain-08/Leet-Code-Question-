{
 "cells": [
  {
   "cell_type": "code",
   "execution_count": 1,
   "id": "2c127655",
   "metadata": {
    "scrolled": true
   },
   "outputs": [
    {
     "name": "stdout",
     "output_type": "stream",
     "text": [
      "Requirement already satisfied: python-leetcode in c:\\users\\siddh\\anaconda3\\lib\\site-packages (1.2.1)\n",
      "Note: you may need to restart the kernel to use updated packages.\n"
     ]
    },
    {
     "name": "stderr",
     "output_type": "stream",
     "text": [
      "WARNING: You are using pip version 21.3.1; however, version 22.0.4 is available.\n",
      "You should consider upgrading via the 'C:\\Users\\siddh\\Anaconda3\\python.exe -m pip install --upgrade pip' command.\n"
     ]
    },
    {
     "name": "stdout",
     "output_type": "stream",
     "text": [
      "Requirement already satisfied: requests in c:\\users\\siddh\\anaconda3\\lib\\site-packages (from python-leetcode) (2.25.1)\n",
      "Requirement already satisfied: six>=1.10 in c:\\users\\siddh\\anaconda3\\lib\\site-packages (from python-leetcode) (1.15.0)\n",
      "Requirement already satisfied: python-dateutil in c:\\users\\siddh\\anaconda3\\lib\\site-packages (from python-leetcode) (2.8.1)\n",
      "Requirement already satisfied: urllib3>=1.15 in c:\\users\\siddh\\anaconda3\\lib\\site-packages (from python-leetcode) (1.26.4)\n",
      "Requirement already satisfied: certifi in c:\\users\\siddh\\anaconda3\\lib\\site-packages (from python-leetcode) (2020.12.5)\n",
      "Requirement already satisfied: chardet<5,>=3.0.2 in c:\\users\\siddh\\anaconda3\\lib\\site-packages (from requests->python-leetcode) (4.0.0)\n",
      "Requirement already satisfied: idna<3,>=2.5 in c:\\users\\siddh\\anaconda3\\lib\\site-packages (from requests->python-leetcode) (2.10)\n"
     ]
    }
   ],
   "source": [
    "pip install python-leetcode"
   ]
  },
  {
   "cell_type": "code",
   "execution_count": 2,
   "id": "8d9346cc",
   "metadata": {},
   "outputs": [],
   "source": [
    "import leetcode"
   ]
  },
  {
   "cell_type": "code",
   "execution_count": 3,
   "id": "6816954d",
   "metadata": {},
   "outputs": [],
   "source": [
    "leetcode_session = '''eyJ0eXAiOiJKV1QiLCJhbGciOiJIUzI1NiJ9.eyJzb2NpYWxhY2NvdW50X3NvY2lhbGxvZ2luIjp7ImFjY291bnQiOnsiaWQiOm51bGwsInVzZXJfaWQiOm51bGwsInByb3ZpZGVyIjoiZ29vZ2xlIiwidWlkIjoiMTE0Mjg4NjA2NjYxMDg0NTk0NjI2IiwibGFzdF9sb2dpbiI6bnVsbCwiZGF0ZV9qb2luZWQiOm51bGwsImV4dHJhX2RhdGEiOnsiaWQiOiIxMTQyODg2MDY2NjEwODQ1OTQ2MjYiLCJlbWFpbCI6InNpZGRoYXJ0aGphaW4yODRAZ21haWwuY29tIiwidmVyaWZpZWRfZW1haWwiOnRydWUsInBpY3R1cmUiOiJodHRwczovL2xoMy5nb29nbGV1c2VyY29udGVudC5jb20vYS9kZWZhdWx0LXVzZXI9czk2LWMifX0sInVzZXIiOnsiaWQiOm51bGwsInBhc3N3b3JkIjoiIVpaVFRLMjUzYXdkdzdCYmtJYk1iRm5tdkZVUTJSYXVWd0oyNVlUZzkiLCJsYXN0X2xvZ2luIjpudWxsLCJpc19zdXBlcnVzZXIiOmZhbHNlLCJ1c2VybmFtZSI6IiIsImZpcnN0X25hbWUiOiIiLCJsYXN0X25hbWUiOiIiLCJlbWFpbCI6InNpZGRoYXJ0aGphaW4yODRAZ21haWwuY29tIiwiaXNfc3RhZmYiOmZhbHNlLCJpc19hY3RpdmUiOnRydWUsImRhdGVfam9pbmVkIjoiMjAyMi0wMy0zMFQxNjozMDo0OS4wNzFaIn0sInN0YXRlIjp7Im5leHQiOiIvZGlzY3Vzcy9nZW5lcmFsLWRpc2N1c3Npb24vMTI5NzcwNS9pcy10aGVyZS1wdWJsaWMtYXBpLWVuZHBvaW50cy1hdmFpbGFibGUtZm9yLWxlZXRjb2RlIiwicHJvY2VzcyI6ImxvZ2luIiwic2NvcGUiOiIiLCJhdXRoX3BhcmFtcyI6IiJ9LCJlbWFpbF9hZGRyZXNzZXMiOlt7ImlkIjpudWxsLCJ1c2VyX2lkIjpudWxsLCJlbWFpbCI6InNpZGRoYXJ0aGphaW4yODRAZ21haWwuY29tIiwidmVyaWZpZWQiOnRydWUsInByaW1hcnkiOnRydWV9XSwidG9rZW4iOnsiaWQiOm51bGwsImFwcF9pZCI6MSwiYWNjb3VudF9pZCI6bnVsbCwidG9rZW4iOiJ5YTI5LkEwQVJyZGFNXy05WUlVWlcxaFg4aHZ1dFZmc2JTcVF4Sk5RRVdCMm43Wm10ZkFURmpkUmxyRVFKS1VGbE1lREVjcDRlWlZTWDNNX0FsWndKWEJCLVBfZHR6TEFjdFRvQmpMaV9YZE93TGRhM0ZQVFdwWndpOFItZFZTNVJEOGpRazRPV1JsbW4wcU54cnBmR3RCSWNvZWNmZlk0SGxvSU53IiwidG9rZW5fc2VjcmV0IjoiIiwiZXhwaXJlc19hdCI6IjIwMjItMDMtMzBUMTc6MzA6NDcuOTg1WiJ9fX0.2GczQ8712c6cZuNSfBj1Ctxvvcnqa8z5RBWcMPoi3AI'''\n",
    "\n",
    "csrf_token = \"jfkYOOFXXjYSvx1EDcAiy0CYz8e2ZtXA2cjIOulC2vaxzuhbBKK7BahooTifgvca\"\n",
    "configuration = leetcode.Configuration()\n",
    "configuration.api_key[\"x-csrftoken\"] = csrf_token\n",
    "configuration.api_key[\"csrftoken\"] = csrf_token\n",
    "configuration.api_key[\"LEETCODE_SESSION\"] = leetcode_session\n",
    "configuration.api_key[\"Referer\"] = \"https://leetcode.com\"\n",
    "configuration.debug = False"
   ]
  },
  {
   "cell_type": "code",
   "execution_count": 1,
   "id": "1bbbd7d2",
   "metadata": {},
   "outputs": [],
   "source": [
    "api_instance =leetcode.DefaultApi(leetcode.ApiClient(configuration))\n",
    "graphql_request = leetcode.GraphqlQuery(\n",
    "query=\"\"\"\n",
    "     {\n",
    "       user {\n",
    "            username\n",
    "            isCurrentUserPremium\n",
    "         }\n",
    "     }\n",
    "     \"\"\",\n",
    "variables=leetcode.GraphqlQueryVariables(),\n",
    ")\n",
    "api_instance.graphql_post(body=graphql_request)"
   ]
  },
  {
   "cell_type": "code",
   "execution_count": 165,
   "id": "297d9f34",
   "metadata": {},
   "outputs": [],
   "source": [
    "def raise_api_req(topic):\n",
    "    \n",
    "    api_response=api_instance.api_problems_topic_get(topic=topic)\n",
    "    #list to store slug\n",
    "    ques_title_slug = []\n",
    "\n",
    "    for question in api_response.stat_status_pairs:\n",
    "        #adding slug of each question\n",
    "        ques_title_slug.append(question.stat.question__title_slug)\n",
    "    return ques_title_slug\n"
   ]
  },
  {
   "cell_type": "code",
   "execution_count": 2,
   "id": "da2122d8",
   "metadata": {},
   "outputs": [],
   "source": [
    "import time\n",
    "from tqdm import tqdm\n",
    "\n",
    "from collections import Counter\n",
    "\n",
    "def extract_data(ques_title_slug):\n",
    "    topic_to_accepted = Counter()\n",
    "    topic_to_total = Counter()\n",
    "\n",
    "    lst =[]\n",
    "    for slug in tqdm(ques_title_slug):\n",
    "        time.sleep(1)  # Leetcode has a rate limiter\n",
    "        #query to retrieve desired columns from the page\n",
    "        graphql_request = leetcode.GraphqlQuery(\n",
    "        query=\"\"\"\n",
    "            query getQuestionDetail($titleSlug: String!) {\n",
    "              question(titleSlug: $titleSlug) {\n",
    "                questionId\n",
    "                questionFrontendId\n",
    "                boundTopicId\n",
    "                title\n",
    "                content\n",
    "                difficulty\n",
    "                likes\n",
    "                dislikes\n",
    "                similarQuestions\n",
    "                topicTags {\n",
    "                  name\n",
    "                  slug\n",
    "                  translatedName\n",
    "                  __typename\n",
    "                }\n",
    "                companyTagStats\n",
    "                stats\n",
    "                codeDefinition\n",
    "                hints\n",
    "              }\n",
    "            }\n",
    "        \"\"\",\n",
    "        variables=leetcode.GraphqlQueryGetQuestionDetailVariables(title_slug=slug),\n",
    "        operation_name=\"getQuestionDetail\",\n",
    "        )\n",
    "\n",
    "        v =api_instance.graphql_post(body=graphql_request)\n",
    "        v = v.to_dict()\n",
    "        t = v['data']['question']\n",
    "        lst.append(t)\n",
    "    return lst"
   ]
  },
  {
   "cell_type": "code",
   "execution_count": 172,
   "id": "a76e6ccf",
   "metadata": {},
   "outputs": [],
   "source": [
    "#algorithms problems\n",
    "#extract slug\n",
    "slug_lst = raise_api_req('Algorithms')\n",
    "#extract all the question info\n",
    "data = extract_data(slug_lst)\n",
    "#save in a dataframe\n",
    "df_algo = pd.DataFrame(data)\n",
    "#add a topic column to the df\n",
    "lst = ['Algorithm']*len(df_algo)\n",
    "df_algo['topic'] = lst\n",
    "\n",
    "#database problems\n",
    "#extract slug\n",
    "slug_lst = raise_api_req('Database')\n",
    "data = extract_data(slug_lst)\n",
    "#save in a dataframe\n",
    "df_db = pd.DataFrame(data)\n",
    "#add a topic column to the df\n",
    "lst = ['Database']*len(df_db)\n",
    "df_db['topic'] = lst\n",
    "\n",
    "#Shell problems\n",
    "#extract slug\n",
    "slug_lst = raise_api_req('Shell')\n",
    "data = extract_data(slug_lst)\n",
    "#save in a dataframe\n",
    "df_shell = pd.DataFrame(data)\n",
    "#add a topic column to the df\n",
    "lst = ['Shell']*len(df_shell)\n",
    "df_shell['topic'] = lst\n",
    "\n",
    "#Concurrency problems\n",
    "#extract slug\n",
    "slug_lst = raise_api_req('Concurrency')\n",
    "data = extract_data(slug_lst)\n",
    "#save in a dataframe\n",
    "df_cc = pd.DataFrame(data)\n",
    "#add a topic column to the df\n",
    "lst = ['Concurrency']*len(df_cc)\n",
    "df_cc['topic'] = lst"
   ]
  },
  {
   "cell_type": "code",
   "execution_count": 177,
   "id": "a8c3b096",
   "metadata": {},
   "outputs": [],
   "source": [
    "cols_to_keep = ['question_id',       \n",
    "'title',               \n",
    "'content',             \n",
    "'difficulty',         \n",
    "'likes',              \n",
    "'dislikes',            \n",
    "'similar_questions',   \n",
    "'topic_tags',          \n",
    "'stats',              \n",
    "'hints',\n",
    "'topic'                \n",
    "]\n",
    "\n",
    "df_algo = df_algo[cols_to_keep]\n",
    "df_db = df_db[cols_to_keep]\n",
    "df_cc = df_cc[cols_to_keep]\n",
    "df_shell = df_shell[cols_to_keep]"
   ]
  },
  {
   "cell_type": "code",
   "execution_count": 181,
   "id": "bca95482",
   "metadata": {},
   "outputs": [],
   "source": [
    "#save all the retrieved data to csv files\n",
    "df_algo.to_csv('scrapped_algo_data.csv', index=False)\n",
    "df_db.to_csv('scrapped_db_data.csv', index=False)\n",
    "df_shell.to_csv('scrapped_shell_data.csv', index=False)\n",
    "df_cc.to_csv('scrapped_cc_data.csv', index=False)"
   ]
  },
  {
   "cell_type": "code",
   "execution_count": 25,
   "id": "46579833",
   "metadata": {},
   "outputs": [],
   "source": [
    "df_algo = pd.read_csv('scrapped_algo_data.csv')\n",
    "df_db = pd.read_csv('scrapped_db_data.csv')\n",
    "df_shell = pd.read_csv('scrapped_shell_data.csv')\n",
    "df_cc = pd.read_csv('scrapped_cc_data.csv')"
   ]
  },
  {
   "cell_type": "code",
   "execution_count": 26,
   "id": "eb4e6d9d",
   "metadata": {},
   "outputs": [],
   "source": [
    "#join all the dataframes into one dataframe\n",
    "df = df_algo.append(df_db, ignore_index= True)\n",
    "df = df.append(df_shell, ignore_index =True)\n",
    "df = df.append(df_cc, ignore_index= True) "
   ]
  },
  {
   "cell_type": "code",
   "execution_count": 39,
   "id": "f364232c",
   "metadata": {},
   "outputs": [],
   "source": [
    "#save it to a csv\n",
    "df.to_csv('scrapped_data.csv', index=False)"
   ]
  },
  {
   "cell_type": "code",
   "execution_count": null,
   "id": "2e556d96",
   "metadata": {},
   "outputs": [],
   "source": []
  }
 ],
 "metadata": {
  "kernelspec": {
   "display_name": "Python 3",
   "language": "python",
   "name": "python3"
  },
  "language_info": {
   "codemirror_mode": {
    "name": "ipython",
    "version": 3
   },
   "file_extension": ".py",
   "mimetype": "text/x-python",
   "name": "python",
   "nbconvert_exporter": "python",
   "pygments_lexer": "ipython3",
   "version": "3.8.8"
  }
 },
 "nbformat": 4,
 "nbformat_minor": 5
}
